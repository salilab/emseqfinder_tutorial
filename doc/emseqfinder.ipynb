{
  "cells": [
    {
      "cell_type": "markdown",
      "metadata": {},
      "source": [
        "\n",
        "Demonstration of the emseqfinder tool<a id=\"mainpage\"></a>\n",
        "=====================================\n",
        "\n",
        "**Table of contents**\n",
        "\n",
        " - [Introduction](#introduction)\n",
        " - [Basic usage of emseqfinder](#basicusage)\n",
        " - [Further reading](#further)\n"
      ]
    },
    {
      "cell_type": "markdown",
      "metadata": {},
      "source": [
        "# Introduction<a id=\"introduction\"></a>\n",
        "\n",
        "This tutorial demonstrates the [EMSequenceFinder](https://github.com/salilab/emseqfinder)\n",
        "method for assigning amino acid residue sequence to backbone fragments traced\n",
        "in an input cryo-electron microscopy (cryo-EM) map.\n",
        "\n",
        "EMSequenceFinder is a method for assigning amino acid residue sequence to backbone fragments traced in an input cryo-electron microscopy (cryo-EM) map. EMSequenceFinder relies on a Bayesian scoring function for ranking 20 standard amino acid residue types at a given backbone position, based on the fit to a density map, map resolution, and secondary structure propensity. The fit to a density is quantified by a convolutional neural network that was trained on 5.56 million amino acid residue densities extracted from cryo-EM maps at 3\u201310 \u00c5 resolution and corresponding atomic structure models deposited in the Electron Microscopy Data Bank (EMDB). For more information, see [Mondal et al, 2025](https://pubmed.ncbi.nlm.nih.gov/40719420/)."
      ]
    },
    {
      "cell_type": "markdown",
      "metadata": {},
      "source": [
        "# Basic usage of emseqfinder<a id=\"basicusage\"></a>\n",
        "\n",
        "EMSequenceFinder is implemented as part of the [Integrative Modeling Platform (IMP)](https://integrativemodeling.org). It is usually used by running the `emseqfinder` command-line tool."
      ]
    },
    {
      "cell_type": "markdown",
      "metadata": {},
      "source": [
        "\n",
        "First, download the files for this tutorial by using the \"Clone or download\" link at the [tutorial's GitHub page](https://github.com/salilab/emseqfinder_tutorial/). Then, install all dependencies, namely:\n",
        "\n",
        " - [IMP](https://integrativemodeling.org)\n",
        " - The [STRIDE](https://webclu.bio.wzw.tum.de/stride/install.html) command line tool for secondary structure prediction\n",
        " - The `mrcfile`, `scipy`, `scikit-learn`, `statsmodels`, `pandas`, and `tensorflow` Python packages\n",
        "\n",
        "One way to get these dependencies is via [conda-forge](https://conda-forge.org/). In order for TensorFlow prediction to work correctly on GPUs with `libdevice`, you may have to run\n",
        "`export XLA_FLAGS=--xla_gpu_cuda_data_dir=$CONDA_PREFIX`"
      ]
    },
    {
      "cell_type": "markdown",
      "metadata": {},
      "source": [
        "Input files for the protocol should be placed in the subdirectories `pdb_files`, `cryoem_maps` and `fasta_files` containing input files in `.pdb`, `.map` and `.fasta` format respectively. Name all three files for a given run with the same stem. For this tutorial we have provided \n",
        "`pdb_files/EMD-8637.pdb`,  `cryoem_maps/EMD-8637.map`, and `fasta_files/EMD-8637.fasta`."
      ]
    },
    {
      "cell_type": "markdown",
      "metadata": {},
      "source": [
        "Run the protocol on all of the files using `emseqfinder batch`. This will take a few minutes to run."
      ]
    },
    {
      "cell_type": "code",
      "execution_count": null,
      "metadata": {},
      "outputs": [],
      "source": [
        "!emseqfinder batch"
      ]
    },
    {
      "cell_type": "markdown",
      "metadata": {},
      "source": [
        "The following output files will be generated:\n",
        " - `*_ML_side_ML_prob.dat` contains fragment-wise sequence scores.\n",
        " - `batch_matching_results.txt` contains overall sequence matching accuracy per structure."
      ]
    },
    {
      "cell_type": "markdown",
      "metadata": {},
      "source": [
        "# Further reading<a id=\"further\"></a>\n",
        "\n",
        "More tutorials on using IMP are available at [the IMP web site](https://integrativemodeling.org/tutorials/)."
      ]
    }
  ],
  "metadata": {
    "kernelspec": {
      "display_name": "Python 3 (ipykernel)",
      "language": "python",
      "name": "python3"
    },
    "language_info": {
      "codemirror_mode": {
        "name": "ipython",
        "version": 3
      },
      "file_extension": ".py",
      "mimetype": "text/x-python",
      "name": "python",
      "nbconvert_exporter": "python",
      "pygments_lexer": "ipython3",
      "version": "3.13.7"
    }
  },
  "nbformat": 4,
  "nbformat_minor": 4
}